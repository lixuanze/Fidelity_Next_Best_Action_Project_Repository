{
 "cells": [
  {
   "cell_type": "code",
   "execution_count": 4,
   "metadata": {},
   "outputs": [],
   "source": [
    "import pandas as pd\n",
    "\n",
    "df_result_list = []\n",
    "df_data_list = []\n",
    "df_row_path = ''\n",
    "df_data_index = -1\n",
    "\n",
    "filename = \"./Datasets/final_dataset_12_reasons_renamed_before_reformat.csv\"\n",
    "\n",
    "df = pd.read_csv(filename)\n",
    "\n",
    "df_columns = list(df.columns.values)\n",
    "\n",
    "class DfJourney:\n",
    "    \"IP Class\"\n",
    "    def __init__(self, ip, data):\n",
    "        self.ip = str(ip)\n",
    "        self.data = []\n",
    "        self.data.append(data)\n",
    "\n",
    "class DfJourneyResult:\n",
    "    \"final dataframe format\"\n",
    "    def __init__(self, path, total_conversions, total_conversion_value, total_null):\n",
    "        self.path = path\n",
    "        self.total_conversions = total_conversions\n",
    "        self.total_conversion_value = total_conversion_value\n",
    "        self.total_null = total_null\n",
    "\n",
    "def checkDfJourney(ip):\n",
    "    \"return the index of the input IP\"\n",
    "    for obj_index, obj in enumerate(df_data_list):\n",
    "        if obj.ip == ip:\n",
    "            return obj_index\n",
    "    return False\n",
    "\n",
    "def checkDfJourneyResult(path):\n",
    "    \"return index of the object which has the same path as the input path\"\n",
    "    for obj_index, obj in enumerate(df_result_list):\n",
    "        if obj.path == path:\n",
    "            return obj_index\n",
    "    return False\n",
    "\n",
    "def checkDfJourneyPaths(data):\n",
    "    \"recurisve call for checkDfJourneyPath\"\n",
    "    for data_row_count in range(1, len(data) + 1):\n",
    "        checkDfJourneyPath(data, 0, data_row_count)\n",
    "\n",
    "def checkDfJourneyPath(data, data_row_index, data_row_count, path = \"\"):\n",
    "    \"path format function\"\n",
    "    data_row_index = data_row_index + 1\n",
    "    if path != \"\":\n",
    "        path += \" > \"\n",
    "    data_row_len = len(data[data_row_index - 1])\n",
    "    for data_row_field_index in range(1, data_row_len - 2):\n",
    "        if data[data_row_index - 1][data_row_field_index]:\n",
    "            check_path = path + df_columns[data_row_field_index]\n",
    "            if data_row_index == data_row_count:\n",
    "                df_result_list_index = checkDfJourneyResult(check_path)\n",
    "                if df_result_list_index == False:\n",
    "                    if data[data_row_index - 1][data_row_len - 1]:\n",
    "                        dj = DfJourneyResult(check_path, 1, data[data_row_index - 1][data_row_len - 2], 0)\n",
    "                    else:\n",
    "                        dj = DfJourneyResult(check_path, 0, 0, 1)\n",
    "                    df_result_list.append(dj)\n",
    "                else:\n",
    "                    if data[data_row_index - 1][data_row_len - 1]:\n",
    "                        df_result_list[df_result_list_index].total_conversions = df_result_list[df_result_list_index].total_conversions + 1\n",
    "                        df_result_list[df_result_list_index].total_conversion_value = df_result_list[df_result_list_index].total_conversion_value + data[data_row_index - 1][data_row_len - 2]\n",
    "                    else:\n",
    "                        df_result_list[df_result_list_index].total_null = df_result_list[df_result_list_index].total_null + 1\n",
    "            else:\n",
    "                checkDfJourneyPath(data, data_row_index, data_row_count, check_path)"
   ]
  },
  {
   "cell_type": "code",
   "execution_count": null,
   "metadata": {},
   "outputs": [],
   "source": [
    "for df_index, df_row in df.iterrows():\n",
    "    if df_row_path != str(df_row[0]):\n",
    "        if df_row_path != '':\n",
    "            checkDfJournyPaths(df_data_list)\n",
    "            df_data_list = []\n",
    "    df_data_list.append(df_row)\n",
    "    df_row_path = str(df_row[0])"
   ]
  },
  {
   "cell_type": "code",
   "execution_count": null,
   "metadata": {},
   "outputs": [],
   "source": [
    "df_result_fields = []\n",
    "for df_result in df_result_list:\n",
    "    df_result_field = []\n",
    "    df_result_field.append(df_result.path)\n",
    "    df_result_field.append(df_result.total_conversions)\n",
    "    df_result_field.append(df_result.total_conversion_value)\n",
    "    df_result_field.append(df_result.total_null)\n",
    "    df_result_fields.append(df_result_field)"
   ]
  },
  {
   "cell_type": "code",
   "execution_count": null,
   "metadata": {},
   "outputs": [],
   "source": [
    "df_result = pd.DataFrame(df_result_fields, columns=['path', 'total_conversions', 'total_conversion_value', 'total_null'])\n",
    "df_result.to_csv('./Datasets/journey.csv', index=False)"
   ]
  }
 ],
 "metadata": {
  "kernelspec": {
   "display_name": "Python 3",
   "language": "python",
   "name": "python3"
  },
  "language_info": {
   "codemirror_mode": {
    "name": "ipython",
    "version": 3
   },
   "file_extension": ".py",
   "mimetype": "text/x-python",
   "name": "python",
   "nbconvert_exporter": "python",
   "pygments_lexer": "ipython3",
   "version": "3.8.5"
  },
  "latex_envs": {
   "LaTeX_envs_menu_present": true,
   "autoclose": false,
   "autocomplete": true,
   "bibliofile": "biblio.bib",
   "cite_by": "apalike",
   "current_citInitial": 1,
   "eqLabelWithNumbers": true,
   "eqNumInitial": 1,
   "hotkeys": {
    "equation": "Ctrl-E",
    "itemize": "Ctrl-I"
   },
   "labels_anchors": false,
   "latex_user_defs": false,
   "report_style_numbering": false,
   "user_envs_cfg": false
  },
  "toc": {
   "base_numbering": 1,
   "nav_menu": {},
   "number_sections": true,
   "sideBar": true,
   "skip_h1_title": false,
   "title_cell": "Table of Contents",
   "title_sidebar": "Contents",
   "toc_cell": false,
   "toc_position": {},
   "toc_section_display": true,
   "toc_window_display": false
  },
  "varInspector": {
   "cols": {
    "lenName": 16,
    "lenType": 16,
    "lenVar": 40
   },
   "kernels_config": {
    "python": {
     "delete_cmd_postfix": "",
     "delete_cmd_prefix": "del ",
     "library": "var_list.py",
     "varRefreshCmd": "print(var_dic_list())"
    },
    "r": {
     "delete_cmd_postfix": ") ",
     "delete_cmd_prefix": "rm(",
     "library": "var_list.r",
     "varRefreshCmd": "cat(var_dic_list()) "
    }
   },
   "types_to_exclude": [
    "module",
    "function",
    "builtin_function_or_method",
    "instance",
    "_Feature"
   ],
   "window_display": false
  }
 },
 "nbformat": 4,
 "nbformat_minor": 5
}
